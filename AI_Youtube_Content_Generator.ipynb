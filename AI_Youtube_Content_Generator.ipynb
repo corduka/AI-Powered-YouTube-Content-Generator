{
 "cells": [
  {
   "cell_type": "code",
   "execution_count": null,
   "id": "af71f301-aee2-4288-aa7a-393119056342",
   "metadata": {},
   "outputs": [],
   "source": [
    "# Final Delivery: Fast Prompting in Action  \n",
    "## Project: AI_Youtube_Content_Generator\n",
    "### Author: Abdullah Corduk  \n",
    "---\n",
    "### Introduction  \n",
    "### Este proyecto demuestra el uso de técnicas de Fast Prompting \n",
    "### para optimizar las respuestas generadas por IA utilizando los modelos de OpenAI.\n"
   ]
  },
  {
   "cell_type": "code",
   "execution_count": null,
   "id": "99c29505-bbc7-43d3-833f-7e20db045abd",
   "metadata": {},
   "outputs": [],
   "source": [
    "!pip install openai matplotlib\n",
    "import openai\n",
    "import matplotlib.pyplot as plt\n",
    "from PIL import Image\n",
    "import requests\n",
    "from io import BytesIO\n",
    "\n",
    "import os\n",
    "openai.api_key = \"your_api_key_here\" ###No tengo API KEY\n",
    "\n",
    "\n",
    "def generate_text(prompt):\n",
    "    response = openai.ChatCompletion.create(\n",
    "        model=\"gpt-4\",\n",
    "        messages=[{\"role\": \"user\", \"content\": prompt}]\n",
    "    )\n",
    "    return response[\"choices\"][0][\"message\"][\"content\"]\n",
    "\n",
    "# Test different fast prompting techniques\n",
    "prompt1 = \"Tell me about the history of AI.\"\n",
    "prompt2 = \"Explain the history of AI in 3 bullet points, in simple words.\"\n",
    "\n",
    "print(\"🔹 Basic Prompt:\\n\", generate_text(prompt1))\n",
    "print(\"\\n🔹 Fast Prompting Optimized:\\n\", generate_text(prompt2))\n",
    "\n",
    "\n",
    "\n",
    "\n",
    "### AI Image Generation  \n",
    "I used the following prompt in [NightCafe](https://creator.nightcafe.studio)\n",
    "\n",
    "## Results & Conclusion  \n",
    "- Fast prompting **significantly improved** the text response by making it clearer and more structured.  \n",
    "- The optimized prompt used in text-to-image generation led to a more **accurate and visually appealing image**.  \n",
    "- Future improvements could involve **fine-tuning models** or integrating user interaction to adjust prompts dynamically.  \n",
    "\n",
    "## Resultados y conclusiones \n",
    "- Las indicaciones rápidas **mejoraron significativamente** la respuesta de texto al hacerla más clara y estructurada.\n",
    "- Las indicaciones optimizadas utilizadas en la generación de texto a imagen dieron como resultado una imagen **más precisa y visualmente atractiva**.\n",
    "- Las mejoras futuras podrían incluir **afinar los modelos** o integrar la interacción del usuario para ajustar las indicaciones de forma dinámica.\n",
    "\n",
    "\n",
    "\n",
    "\n"
   ]
  }
 ],
 "metadata": {
  "kernelspec": {
   "display_name": "Python 3 (ipykernel)",
   "language": "python",
   "name": "python3"
  },
  "language_info": {
   "codemirror_mode": {
    "name": "ipython",
    "version": 3
   },
   "file_extension": ".py",
   "mimetype": "text/x-python",
   "name": "python",
   "nbconvert_exporter": "python",
   "pygments_lexer": "ipython3",
   "version": "3.13.1"
  }
 },
 "nbformat": 4,
 "nbformat_minor": 5
}
